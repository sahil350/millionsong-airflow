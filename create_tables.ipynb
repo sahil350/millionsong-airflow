{
 "cells": [
  {
   "cell_type": "code",
   "execution_count": null,
   "metadata": {
    "editable": true
   },
   "outputs": [],
   "source": [
    "%load_ext sql"
   ]
  },
  {
   "cell_type": "markdown",
   "metadata": {
    "editable": true
   },
   "source": [
    "### Connect to database"
   ]
  },
  {
   "cell_type": "code",
   "execution_count": null,
   "metadata": {
    "editable": true
   },
   "outputs": [],
   "source": [
    "import configparser\n",
    "config = configparser.ConfigParser()\n",
    "config.read_file(open('dwh.cfg'))\n"
   ]
  },
  {
   "cell_type": "code",
   "execution_count": null,
   "metadata": {
    "editable": true
   },
   "outputs": [],
   "source": [
    "DWH_ENDPOINT = config.get('CLUSTER', 'HOST')\n",
    "DWH_DB_USER = config.get('CLUSTER', 'DB_USER')\n",
    "DWH_DB_PASSWORD = config.get('CLUSTER', 'DB_PASSWORD')\n",
    "DWH_PORT = config.get('CLUSTER', 'DB_PORT')\n",
    "DWH_DB = config.get('CLUSTER', 'DB_NAME')"
   ]
  },
  {
   "cell_type": "code",
   "execution_count": null,
   "metadata": {
    "editable": true
   },
   "outputs": [],
   "source": [
    "import os \n",
    "conn_string=\"postgresql://{}:{}@{}:{}/{}\".format(DWH_DB_USER, DWH_DB_PASSWORD, DWH_ENDPOINT, DWH_PORT,DWH_DB)\n",
    "%sql $conn_string"
   ]
  },
  {
   "cell_type": "markdown",
   "metadata": {
    "editable": true
   },
   "source": [
    "### Create Tables"
   ]
  },
  {
   "cell_type": "code",
   "execution_count": null,
   "metadata": {
    "editable": true
   },
   "outputs": [],
   "source": [
    "%%sql\n",
    "CREATE TABLE public.artists (\n",
    "\tartistid varchar(256) NOT NULL,\n",
    "\tname varchar(256),\n",
    "\tlocation varchar(256),\n",
    "\tlattitude numeric(18,0),\n",
    "\tlongitude numeric(18,0)\n",
    ");\n",
    "\n",
    "CREATE TABLE public.songplays (\n",
    "\tplayid varchar(32) NOT NULL,\n",
    "\tstart_time timestamp NOT NULL,\n",
    "\tuserid int4 NOT NULL,\n",
    "\t\"level\" varchar(256),\n",
    "\tsongid varchar(256),\n",
    "\tartistid varchar(256),\n",
    "\tsessionid int4,\n",
    "\tlocation varchar(256),\n",
    "\tuser_agent varchar(256),\n",
    "\tCONSTRAINT songplays_pkey PRIMARY KEY (playid)\n",
    ");\n",
    "\n",
    "CREATE TABLE public.songs (\n",
    "\tsongid varchar(256) NOT NULL,\n",
    "\ttitle varchar(256),\n",
    "\tartistid varchar(256),\n",
    "\t\"year\" int4,\n",
    "\tduration numeric(18,0),\n",
    "\tCONSTRAINT songs_pkey PRIMARY KEY (songid)\n",
    ");\n",
    "\n",
    "CREATE TABLE public.staging_events (\n",
    "\tartist varchar(256),\n",
    "\tauth varchar(256),\n",
    "\tfirstname varchar(256),\n",
    "\tgender varchar(256),\n",
    "\titeminsession int4,\n",
    "\tlastname varchar(256),\n",
    "\tlength numeric(18,0),\n",
    "\t\"level\" varchar(256),\n",
    "\tlocation varchar(256),\n",
    "\t\"method\" varchar(256),\n",
    "\tpage varchar(256),\n",
    "\tregistration numeric(18,0),\n",
    "\tsessionid int4,\n",
    "\tsong varchar(256),\n",
    "\tstatus int4,\n",
    "\tts int8,\n",
    "\tuseragent varchar(256),\n",
    "\tuserid int4\n",
    ");\n",
    "\n",
    "CREATE TABLE public.staging_songs (\n",
    "\tnum_songs int4,\n",
    "\tartist_id varchar(256),\n",
    "\tartist_name varchar(256),\n",
    "\tartist_latitude numeric(18,0),\n",
    "\tartist_longitude numeric(18,0),\n",
    "\tartist_location varchar(256),\n",
    "\tsong_id varchar(256),\n",
    "\ttitle varchar(256),\n",
    "\tduration numeric(18,0),\n",
    "\t\"year\" int4\n",
    ");\n",
    "\n",
    "CREATE TABLE public.\"time\" (\n",
    "\tstart_time timestamp NOT NULL,\n",
    "\t\"hour\" int4,\n",
    "\t\"day\" int4,\n",
    "\tweek int4,\n",
    "\t\"month\" varchar(256),\n",
    "\t\"year\" int4,\n",
    "\tweekday varchar(256),\n",
    "\tCONSTRAINT time_pkey PRIMARY KEY (start_time)\n",
    ") ;\n",
    "\n",
    "CREATE TABLE public.users (\n",
    "\tuserid int4 NOT NULL,\n",
    "\tfirst_name varchar(256),\n",
    "\tlast_name varchar(256),\n",
    "\tgender varchar(256),\n",
    "\t\"level\" varchar(256),\n",
    "\tCONSTRAINT users_pkey PRIMARY KEY (userid)\n",
    ");\n"
   ]
  }
 ],
 "metadata": {
  "kernelspec": {
   "display_name": "Python 3",
   "language": "python",
   "name": "python3"
  },
  "language_info": {
   "codemirror_mode": {
    "name": "ipython",
    "version": 3
   },
   "file_extension": ".py",
   "mimetype": "text/x-python",
   "name": "python",
   "nbconvert_exporter": "python",
   "pygments_lexer": "ipython3",
   "version": "3.6.3"
  }
 },
 "nbformat": 4,
 "nbformat_minor": 4
}
